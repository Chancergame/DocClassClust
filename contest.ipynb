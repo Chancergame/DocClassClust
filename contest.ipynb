{
 "cells": [
  {
   "cell_type": "code",
   "execution_count": 1,
   "metadata": {},
   "outputs": [
    {
     "name": "stdout",
     "output_type": "stream",
     "text": [
      "Yes\n",
      "No\n",
      "No\n",
      "Yes\n"
     ]
    }
   ],
   "source": [
    "n = int(input())\n",
    "right_let = {'T':1, 'I': 1, 'N': 1, 'K': 1,'O': 1,'F': 2}\n",
    "for i in range(n):\n",
    "    tin = input()\n",
    "    if len(tin) > 8:\n",
    "        print('No')\n",
    "        continue\n",
    "    let = {}\n",
    "    for v in tin:\n",
    "        if v in let.keys():\n",
    "            let[v] += 1\n",
    "        else:\n",
    "            let[v] = 1\n",
    "    if let == right_let:\n",
    "        print('Yes')\n",
    "    else: \n",
    "        print('No')"
   ]
  },
  {
   "cell_type": "code",
   "execution_count": 10,
   "metadata": {},
   "outputs": [
    {
     "name": "stdout",
     "output_type": "stream",
     "text": [
      "3\n"
     ]
    }
   ],
   "source": [
    "\n",
    "n, k = map(int, input().split(' '))\n",
    "comp = [input() for i in range(k)]\n",
    "p, a, c = [], [], []\n",
    "for i in range(n):\n",
    "    p_i, a_i, c_i = input().split()\n",
    "    p.append(int(p_i))\n",
    "    a.append(int(a_i))\n",
    "    c.append(c_i) \n",
    "min_sum = 10000*k   \n",
    "for i in range(n):\n",
    "    nodes = [i+1]\n",
    "    sum = a[i]\n",
    "    comps = [c[i]]\n",
    "    for j in range(i+1, n):\n",
    "        if p[j] in nodes:\n",
    "            nodes.append(j+1)\n",
    "            sum += a[j]\n",
    "            comps.append(c[j])\n",
    "    flag = 0\n",
    "    for one in comp:\n",
    "        if one not in comps: flag = 1\n",
    "    if flag < 1 and sum < min_sum: min_sum = sum\n",
    "if min_sum < 10000*k:\n",
    "    print(min_sum)\n",
    "else:\n",
    "    print(-1)\n",
    "    \n"
   ]
  },
  {
   "cell_type": "code",
   "execution_count": 17,
   "metadata": {},
   "outputs": [
    {
     "name": "stdout",
     "output_type": "stream",
     "text": [
      "Yes\n"
     ]
    }
   ],
   "source": [
    "n = int(input())\n",
    "for i in range(n):\n",
    "    k = int(input())\n",
    "    l = list(map(int, input().split()))\n",
    "    s = 0\n",
    "    a = l.count(1)\n",
    "    if k < 3:\n",
    "        print('Yes')\n",
    "    else:\n",
    "        for c in l:\n",
    "            if c > 1: s += c\n",
    "        b = k - a\n",
    "        if b == 1:\n",
    "            if s >= a: print('Yes')\n",
    "            else: print('No')\n",
    "        else:\n",
    "            if (s - 2 * b + 2) >= a: print('Yes')\n",
    "            else: print('No')"
   ]
  },
  {
   "cell_type": "code",
   "execution_count": 27,
   "metadata": {},
   "outputs": [
    {
     "name": "stdout",
     "output_type": "stream",
     "text": [
      "2\n"
     ]
    }
   ],
   "source": [
    "n, k = map(int, input().split())\n",
    "l = list(map(int, input().split()))\n",
    "max_s = 0\n",
    "for i in range(1, k+1):\n",
    "    s = i\n",
    "    for p in l:\n",
    "        if s >= p: s -= p\n",
    "    if s > max_s:  max_s = s\n",
    "print(max_s)"
   ]
  },
  {
   "cell_type": "code",
   "execution_count": 22,
   "metadata": {},
   "outputs": [
    {
     "name": "stdout",
     "output_type": "stream",
     "text": [
      "1\n",
      "5\n",
      "1\n",
      "7\n"
     ]
    }
   ],
   "source": [
    "n, m, q = map(int, input().split())\n",
    "manuls = list(map(int,input().split()))\n",
    "kids = {i+1: manuls[i] for i in range(n)}\n",
    "frends = {i+1:[] for i in range(n)}\n",
    "for i in range(m):\n",
    "    a, b = map(int, input().split())\n",
    "    frends[a].append(b)\n",
    "    frends[b].append(a)\n",
    "for i in range(q):\n",
    "    str = input()\n",
    "    if str[0] == '?':\n",
    "        print(kids[int(str[2])])\n",
    "    else:\n",
    "        a, b = map(int, str[2:].split())\n",
    "        l = frends[a]\n",
    "        for kid in l:\n",
    "            kids[kid] += b"
   ]
  },
  {
   "cell_type": "code",
   "execution_count": 25,
   "metadata": {},
   "outputs": [
    {
     "ename": "ValueError",
     "evalue": "not enough values to unpack (expected 2, got 0)",
     "output_type": "error",
     "traceback": [
      "\u001b[1;31m---------------------------------------------------------------------------\u001b[0m",
      "\u001b[1;31mValueError\u001b[0m                                Traceback (most recent call last)",
      "\u001b[1;32m~\\AppData\\Local\\Temp\\ipykernel_14612\\274104851.py\u001b[0m in \u001b[0;36m<module>\u001b[1;34m\u001b[0m\n\u001b[1;32m----> 1\u001b[1;33m \u001b[0mn\u001b[0m\u001b[1;33m,\u001b[0m \u001b[0mq\u001b[0m \u001b[1;33m=\u001b[0m \u001b[0mmap\u001b[0m\u001b[1;33m(\u001b[0m\u001b[0mint\u001b[0m\u001b[1;33m,\u001b[0m \u001b[0minput\u001b[0m\u001b[1;33m(\u001b[0m\u001b[1;33m)\u001b[0m\u001b[1;33m.\u001b[0m\u001b[0msplit\u001b[0m\u001b[1;33m(\u001b[0m\u001b[1;33m)\u001b[0m\u001b[1;33m)\u001b[0m\u001b[1;33m\u001b[0m\u001b[1;33m\u001b[0m\u001b[0m\n\u001b[0m\u001b[0;32m      2\u001b[0m \u001b[0ma\u001b[0m \u001b[1;33m=\u001b[0m \u001b[0mlist\u001b[0m\u001b[1;33m(\u001b[0m\u001b[0mmap\u001b[0m\u001b[1;33m(\u001b[0m\u001b[0mint\u001b[0m\u001b[1;33m,\u001b[0m \u001b[0minput\u001b[0m\u001b[1;33m(\u001b[0m\u001b[1;33m)\u001b[0m\u001b[1;33m.\u001b[0m\u001b[0msplit\u001b[0m\u001b[1;33m(\u001b[0m\u001b[1;33m)\u001b[0m\u001b[1;33m)\u001b[0m\u001b[1;33m)\u001b[0m\u001b[1;33m\u001b[0m\u001b[1;33m\u001b[0m\u001b[0m\n\u001b[0;32m      3\u001b[0m \u001b[1;32mfor\u001b[0m \u001b[0mi\u001b[0m \u001b[1;32min\u001b[0m \u001b[0mrange\u001b[0m\u001b[1;33m(\u001b[0m\u001b[0mq\u001b[0m\u001b[1;33m)\u001b[0m\u001b[1;33m:\u001b[0m\u001b[1;33m\u001b[0m\u001b[1;33m\u001b[0m\u001b[0m\n\u001b[0;32m      4\u001b[0m     \u001b[0mstr\u001b[0m \u001b[1;33m=\u001b[0m \u001b[0minput\u001b[0m\u001b[1;33m(\u001b[0m\u001b[1;33m)\u001b[0m\u001b[1;33m\u001b[0m\u001b[1;33m\u001b[0m\u001b[0m\n\u001b[0;32m      5\u001b[0m     \u001b[1;32mif\u001b[0m \u001b[0mstr\u001b[0m\u001b[1;33m[\u001b[0m\u001b[1;36m0\u001b[0m\u001b[1;33m]\u001b[0m \u001b[1;33m==\u001b[0m \u001b[1;34m'+'\u001b[0m\u001b[1;33m:\u001b[0m\u001b[1;33m\u001b[0m\u001b[1;33m\u001b[0m\u001b[0m\n",
      "\u001b[1;31mValueError\u001b[0m: not enough values to unpack (expected 2, got 0)"
     ]
    }
   ],
   "source": [
    "n, q = map(int, input().split())\n",
    "a = list(map(int, input().split()))\n",
    "for i in range(q):\n",
    "    str = input()\n",
    "    if str[0] == '+':\n",
    "        l, r, x = map(int, str[2:].split())\n",
    "        for i in range(l-1, r):\n",
    "            a[i] += x\n",
    "    else:\n",
    "        l, r, k, b = map(int, str[2:].split())\n",
    "        ans = 0\n",
    "        for i in range(l-1, r):\n",
    "            z = min(a[i], k * (i+1) + b)\n",
    "            if z > ans: ans =z\n",
    "        print(ans)"
   ]
  }
 ],
 "metadata": {
  "kernelspec": {
   "display_name": "Python 3",
   "language": "python",
   "name": "python3"
  },
  "language_info": {
   "codemirror_mode": {
    "name": "ipython",
    "version": 3
   },
   "file_extension": ".py",
   "mimetype": "text/x-python",
   "name": "python",
   "nbconvert_exporter": "python",
   "pygments_lexer": "ipython3",
   "version": "3.9.7"
  }
 },
 "nbformat": 4,
 "nbformat_minor": 2
}
