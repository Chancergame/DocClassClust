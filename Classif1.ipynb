{
 "cells": [
  {
   "cell_type": "code",
   "execution_count": 1,
   "metadata": {},
   "outputs": [
    {
     "name": "stderr",
     "output_type": "stream",
     "text": [
      "c:\\Users\\hobbi\\AppData\\Local\\Programs\\Python\\Python39\\lib\\site-packages\\tqdm\\auto.py:21: TqdmWarning: IProgress not found. Please update jupyter and ipywidgets. See https://ipywidgets.readthedocs.io/en/stable/user_install.html\n",
      "  from .autonotebook import tqdm as notebook_tqdm\n"
     ]
    }
   ],
   "source": [
    "import numpy as np\n",
    "import pandas as pd\n",
    "from sklearn.metrics import f1_score\n",
    "from sklearn.datasets import fetch_20newsgroups\n",
    "from sklearn.feature_extraction.text import TfidfVectorizer\n",
    "from sklearn.model_selection import train_test_split\n",
    "from sklearn.svm import SVC\n",
    "from sklearn.naive_bayes import MultinomialNB, GaussianNB\n",
    "from sklearn.tree import DecisionTreeClassifier\n",
    "from transformers import BertTokenizer, BertModel\n",
    "import torch\n",
    "from gensim import corpora, models"
   ]
  },
  {
   "cell_type": "markdown",
   "metadata": {},
   "source": [
    "**Loading data**"
   ]
  },
  {
   "cell_type": "code",
   "execution_count": 2,
   "metadata": {},
   "outputs": [],
   "source": [
    "corpuses = []\n",
    "for i in range(3):\n",
    "    file = open('20docs' + str(i+1) + 'Dif.txt', 'r')\n",
    "    corpuses.append([line.strip() for line in file])\n",
    "    file.close()"
   ]
  },
  {
   "cell_type": "code",
   "execution_count": 3,
   "metadata": {},
   "outputs": [],
   "source": [
    "categories = ['comp.graphics', 'rec.autos', 'sci.med',  'talk.politics.mideast']\n",
    "newsgroups = fetch_20newsgroups(subset='all', remove=('headers', 'footers', 'quotes'), categories=categories)\n",
    "Y = newsgroups.target"
   ]
  },
  {
   "cell_type": "markdown",
   "metadata": {},
   "source": [
    "**Vectorising**\n"
   ]
  },
  {
   "cell_type": "code",
   "execution_count": 22,
   "metadata": {},
   "outputs": [],
   "source": [
    "corpus = corpuses[2]\n",
    "score_svm = np.zeros(3)\n",
    "score_bayes = np.zeros(3)\n",
    "score_tree = np.zeros(3)"
   ]
  },
  {
   "cell_type": "code",
   "execution_count": 23,
   "metadata": {},
   "outputs": [],
   "source": [
    "vectorizer = TfidfVectorizer()\n",
    "X_tfidf = vectorizer.fit_transform(corpus).toarray()"
   ]
  },
  {
   "cell_type": "code",
   "execution_count": 24,
   "metadata": {},
   "outputs": [],
   "source": [
    "device = torch.device(\"cuda:0\" if torch.cuda.is_available() else \"cpu\")"
   ]
  },
  {
   "cell_type": "code",
   "execution_count": 25,
   "metadata": {},
   "outputs": [
    {
     "name": "stderr",
     "output_type": "stream",
     "text": [
      "Some weights of the model checkpoint at bert-base-uncased were not used when initializing BertModel: ['cls.predictions.transform.LayerNorm.weight', 'cls.predictions.transform.LayerNorm.bias', 'cls.predictions.bias', 'cls.predictions.transform.dense.bias', 'cls.seq_relationship.weight', 'cls.predictions.transform.dense.weight', 'cls.seq_relationship.bias']\n",
      "- This IS expected if you are initializing BertModel from the checkpoint of a model trained on another task or with another architecture (e.g. initializing a BertForSequenceClassification model from a BertForPreTraining model).\n",
      "- This IS NOT expected if you are initializing BertModel from the checkpoint of a model that you expect to be exactly identical (initializing a BertForSequenceClassification model from a BertForSequenceClassification model).\n"
     ]
    }
   ],
   "source": [
    "tokenizer = BertTokenizer.from_pretrained('bert-base-uncased')\n",
    "tokens = [tokenizer(i, return_tensors='pt', padding=True, truncation=True).to(device) for i in corpus]\n",
    "model = BertModel.from_pretrained('bert-base-uncased').to(device)\n",
    "X_embed = np.array([[]])\n",
    "for i in tokens:\n",
    "    with torch.no_grad():\n",
    "        outputs = model(**i)\n",
    "        embedding = outputs.last_hidden_state[:, 0, :]\n",
    "    embedding = embedding.data.cpu().numpy()\n",
    "    X_embed = np.append(X_embed,embedding)\n",
    "X_embed = np.reshape(X_embed, (3893,768))"
   ]
  },
  {
   "cell_type": "code",
   "execution_count": 26,
   "metadata": {},
   "outputs": [],
   "source": [
    "corpus = [doc.split() for doc in corpus]\n",
    "dictionary = corpora.Dictionary(corpus)\n",
    "bow_corpus = [dictionary.doc2bow(doc) for doc in corpus]\n",
    "lda_model = models.LdaModel(bow_corpus, num_topics=20, id2word=dictionary)\n",
    "document_topic_vectors = np.array([])\n",
    "for doc_bow in bow_corpus:\n",
    " document_topics = lda_model.get_document_topics(doc_bow, minimum_probability=0.0)\n",
    " document_topic_vector = [topic_prob for _, topic_prob in document_topics]\n",
    " document_topic_vectors = np.append(document_topic_vectors, document_topic_vector)\n",
    "X_lda = np.reshape(document_topic_vectors, (3893,20))"
   ]
  },
  {
   "cell_type": "markdown",
   "metadata": {},
   "source": [
    "**Training and tasting**"
   ]
  },
  {
   "cell_type": "code",
   "execution_count": 27,
   "metadata": {},
   "outputs": [],
   "source": [
    "Xs = [X_tfidf, X_embed, X_lda]\n",
    "for i, X in enumerate(Xs):\n",
    "    X_train, X_test, y_train, y_test = train_test_split(X, Y, test_size=0.2, random_state= i * 11)\n",
    "    svm = SVC()\n",
    "    y_svm = svm.fit(X_train, y_train).predict(X_test)\n",
    "    score_svm[i] = f1_score(y_test, y_svm, average='micro')\n",
    "    bayes = GaussianNB() if i == 1 else MultinomialNB()\n",
    "    y_bayes = bayes.fit(X_train, y_train).predict(X_test)\n",
    "    score_bayes[i] = f1_score(y_test, y_bayes, average='micro')\n",
    "    tree = DecisionTreeClassifier()\n",
    "    y_tree = tree.fit(X_train,y_train).predict(X_test)\n",
    "    score_tree[i] = f1_score(y_test, y_tree, average='micro')"
   ]
  },
  {
   "cell_type": "markdown",
   "metadata": {},
   "source": [
    "**Exporting**"
   ]
  },
  {
   "cell_type": "code",
   "execution_count": 28,
   "metadata": {},
   "outputs": [],
   "source": [
    "table = pd.DataFrame({'SVM': score_svm, 'Naive Bayes': score_bayes, 'Decision Tree': score_tree},\n",
    "                     index=['TfIdf', 'Bert embedding', 'LDA'])\n",
    "table.to_excel('Class.xlsx', float_format=\"%.2f\")"
   ]
  }
 ],
 "metadata": {
  "kernelspec": {
   "display_name": "Python 3",
   "language": "python",
   "name": "python3"
  },
  "language_info": {
   "codemirror_mode": {
    "name": "ipython",
    "version": 3
   },
   "file_extension": ".py",
   "mimetype": "text/x-python",
   "name": "python",
   "nbconvert_exporter": "python",
   "pygments_lexer": "ipython3",
   "version": "3.9.7"
  }
 },
 "nbformat": 4,
 "nbformat_minor": 2
}
