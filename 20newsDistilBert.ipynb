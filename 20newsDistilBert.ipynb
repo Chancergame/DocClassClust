{
 "cells": [
  {
   "cell_type": "code",
   "execution_count": 29,
   "metadata": {},
   "outputs": [],
   "source": [
    "from sklearn.datasets import fetch_20newsgroups\n",
    "from sklearn.cluster import KMeans as sk_kmeans\n",
    "from nltk.cluster.kmeans import KMeansClusterer as nl_kmeans\n",
    "from sklearn.cluster import AgglomerativeClustering\n",
    "from nltk.cluster.util import cosine_distance\n",
    "import numpy as np\n",
    "import pandas as pd\n",
    "from sklearn import metrics\n",
    "\n",
    "import torch\n",
    "from transformers import DistilBertTokenizer, DistilBertModel"
   ]
  },
  {
   "cell_type": "code",
   "execution_count": 30,
   "metadata": {},
   "outputs": [],
   "source": [
    "file = open('20docs3UnDif.txt', 'r')\n",
    "corpus = [line.strip() for line in file]\n",
    "file.close()"
   ]
  },
  {
   "cell_type": "code",
   "execution_count": 31,
   "metadata": {},
   "outputs": [],
   "source": [
    "#'comp.graphics', 'rec.autos', 'sci.med',  'talk.politics.mideast'\n",
    "categories = ['talk.politics.guns', 'talk.politics.mideast',  'talk.politics.misc']\n",
    "newsgroups = fetch_20newsgroups(subset='all', remove=('headers', 'footers', 'quotes'), categories=categories)\n",
    "Y = newsgroups.target"
   ]
  },
  {
   "cell_type": "markdown",
   "metadata": {},
   "source": [
    "Distil Bert"
   ]
  },
  {
   "cell_type": "code",
   "execution_count": 32,
   "metadata": {},
   "outputs": [],
   "source": [
    "model_name = 'distilbert-base-uncased'\n",
    "tokenizer = DistilBertTokenizer.from_pretrained(model_name)\n",
    "tokens = [tokenizer(i, return_tensors='pt', padding=True, truncation=True) for i in corpus]"
   ]
  },
  {
   "cell_type": "code",
   "execution_count": 33,
   "metadata": {},
   "outputs": [
    {
     "name": "stderr",
     "output_type": "stream",
     "text": [
      "Some weights of the model checkpoint at distilbert-base-uncased were not used when initializing DistilBertModel: ['vocab_transform.weight', 'vocab_projector.bias', 'vocab_transform.bias', 'vocab_layer_norm.weight', 'vocab_layer_norm.bias']\n",
      "- This IS expected if you are initializing DistilBertModel from the checkpoint of a model trained on another task or with another architecture (e.g. initializing a BertForSequenceClassification model from a BertForPreTraining model).\n",
      "- This IS NOT expected if you are initializing DistilBertModel from the checkpoint of a model that you expect to be exactly identical (initializing a BertForSequenceClassification model from a BertForSequenceClassification model).\n"
     ]
    }
   ],
   "source": [
    "model = DistilBertModel.from_pretrained(model_name)\n",
    "X = np.array([[]])\n",
    "for i in tokens:\n",
    "    with torch.no_grad():\n",
    "        outputs = model(**i)\n",
    "        embedding = outputs.last_hidden_state[:, 0, :]\n",
    "    X = np.append(X,embedding)"
   ]
  },
  {
   "cell_type": "code",
   "execution_count": 34,
   "metadata": {},
   "outputs": [],
   "source": [
    "X = np.reshape(X, (2625,768))\n",
    "iter = 30\n",
    "a_rand = np.zeros((2,iter))\n",
    "v_measure = np.zeros((2,iter))\n",
    "mutual = np.zeros((2,iter))\n",
    "fowlkes = np.zeros((2,iter))"
   ]
  },
  {
   "cell_type": "code",
   "execution_count": 35,
   "metadata": {},
   "outputs": [],
   "source": [
    "for i in range(iter):\n",
    "    eukl_pred = sk_kmeans(n_clusters=3, init='k-means++', n_init='auto').fit(X)\n",
    "    eucl_pred = eukl_pred.labels_\n",
    "    a_rand[0][i] = metrics.rand_score(Y, eucl_pred)\n",
    "    v_measure[0][i] = metrics.v_measure_score(Y,eucl_pred)\n",
    "    mutual[0][i] = metrics.adjusted_mutual_info_score(Y,eucl_pred)\n",
    "    fowlkes[0][i] = metrics.fowlkes_mallows_score(Y, eucl_pred)\n",
    "\n",
    "    nl_clusterer = nl_kmeans(3, distance=cosine_distance, avoid_empty_clusters=True)\n",
    "    cos_pred = nl_clusterer.cluster(X, assign_clusters=True)\n",
    "    cos_pred = np.array(cos_pred)\n",
    "    a_rand[1][i] = metrics.rand_score(Y, cos_pred)\n",
    "    v_measure[1][i] = metrics.v_measure_score(Y, cos_pred)\n",
    "    mutual[1][i] = metrics.adjusted_mutual_info_score(Y, cos_pred)\n",
    "    fowlkes[1][i] = metrics.fowlkes_mallows_score(Y, cos_pred)"
   ]
  },
  {
   "cell_type": "code",
   "execution_count": 36,
   "metadata": {},
   "outputs": [
    {
     "data": {
      "text/html": [
       "<div>\n",
       "<style scoped>\n",
       "    .dataframe tbody tr th:only-of-type {\n",
       "        vertical-align: middle;\n",
       "    }\n",
       "\n",
       "    .dataframe tbody tr th {\n",
       "        vertical-align: top;\n",
       "    }\n",
       "\n",
       "    .dataframe thead th {\n",
       "        text-align: right;\n",
       "    }\n",
       "</style>\n",
       "<table border=\"1\" class=\"dataframe\">\n",
       "  <thead>\n",
       "    <tr style=\"text-align: right;\">\n",
       "      <th></th>\n",
       "      <th>a_rand</th>\n",
       "      <th>v_measure</th>\n",
       "      <th>mutual</th>\n",
       "      <th>fowlkes</th>\n",
       "    </tr>\n",
       "  </thead>\n",
       "  <tbody>\n",
       "    <tr>\n",
       "      <th>min</th>\n",
       "      <td>0.559089</td>\n",
       "      <td>0.012802</td>\n",
       "      <td>0.011842</td>\n",
       "      <td>0.330569</td>\n",
       "    </tr>\n",
       "    <tr>\n",
       "      <th>avrg</th>\n",
       "      <td>0.562149</td>\n",
       "      <td>0.013613</td>\n",
       "      <td>0.012647</td>\n",
       "      <td>0.335809</td>\n",
       "    </tr>\n",
       "    <tr>\n",
       "      <th>max</th>\n",
       "      <td>0.565240</td>\n",
       "      <td>0.014786</td>\n",
       "      <td>0.013811</td>\n",
       "      <td>0.342324</td>\n",
       "    </tr>\n",
       "  </tbody>\n",
       "</table>\n",
       "</div>"
      ],
      "text/plain": [
       "        a_rand  v_measure    mutual   fowlkes\n",
       "min   0.559089   0.012802  0.011842  0.330569\n",
       "avrg  0.562149   0.013613  0.012647  0.335809\n",
       "max   0.565240   0.014786  0.013811  0.342324"
      ]
     },
     "execution_count": 36,
     "metadata": {},
     "output_type": "execute_result"
    }
   ],
   "source": [
    "evcl = pd.DataFrame({'a_rand': [np.min(a_rand[0]), np.mean(a_rand[0]), np.max(a_rand[0])],\n",
    "        'v_measure': [np.min(v_measure[0]), np.mean(v_measure[0]), np.max(v_measure[0])],\n",
    "        'mutual': [np.min(mutual[0]), np.mean(mutual[0]), np.max(mutual[0])],\n",
    "        'fowlkes': [np.min(fowlkes[0]), np.mean(fowlkes[0]), np.max(fowlkes[0])]},\n",
    "        index=['min', 'avrg', 'max'])\n",
    "evcl"
   ]
  },
  {
   "cell_type": "code",
   "execution_count": 37,
   "metadata": {},
   "outputs": [
    {
     "data": {
      "text/html": [
       "<div>\n",
       "<style scoped>\n",
       "    .dataframe tbody tr th:only-of-type {\n",
       "        vertical-align: middle;\n",
       "    }\n",
       "\n",
       "    .dataframe tbody tr th {\n",
       "        vertical-align: top;\n",
       "    }\n",
       "\n",
       "    .dataframe thead th {\n",
       "        text-align: right;\n",
       "    }\n",
       "</style>\n",
       "<table border=\"1\" class=\"dataframe\">\n",
       "  <thead>\n",
       "    <tr style=\"text-align: right;\">\n",
       "      <th></th>\n",
       "      <th>a_rand</th>\n",
       "      <th>v_measure</th>\n",
       "      <th>mutual</th>\n",
       "      <th>fowlkes</th>\n",
       "    </tr>\n",
       "  </thead>\n",
       "  <tbody>\n",
       "    <tr>\n",
       "      <th>min</th>\n",
       "      <td>0.567879</td>\n",
       "      <td>0.014100</td>\n",
       "      <td>0.013146</td>\n",
       "      <td>0.326117</td>\n",
       "    </tr>\n",
       "    <tr>\n",
       "      <th>avrg</th>\n",
       "      <td>0.569074</td>\n",
       "      <td>0.014188</td>\n",
       "      <td>0.013238</td>\n",
       "      <td>0.326707</td>\n",
       "    </tr>\n",
       "    <tr>\n",
       "      <th>max</th>\n",
       "      <td>0.569713</td>\n",
       "      <td>0.014226</td>\n",
       "      <td>0.013277</td>\n",
       "      <td>0.329310</td>\n",
       "    </tr>\n",
       "  </tbody>\n",
       "</table>\n",
       "</div>"
      ],
      "text/plain": [
       "        a_rand  v_measure    mutual   fowlkes\n",
       "min   0.567879   0.014100  0.013146  0.326117\n",
       "avrg  0.569074   0.014188  0.013238  0.326707\n",
       "max   0.569713   0.014226  0.013277  0.329310"
      ]
     },
     "execution_count": 37,
     "metadata": {},
     "output_type": "execute_result"
    }
   ],
   "source": [
    "cos = pd.DataFrame({'a_rand': [np.min(a_rand[1]), np.mean(a_rand[1]), np.max(a_rand[1])],\n",
    "        'v_measure': [np.min(v_measure[1]), np.mean(v_measure[1]), np.max(v_measure[1])],\n",
    "        'mutual': [np.min(mutual[1]), np.mean(mutual[1]), np.max(mutual[1])],\n",
    "        'fowlkes': [np.min(fowlkes[1]), np.mean(fowlkes[1]), np.max(fowlkes[1])]},\n",
    "        index=['min', 'avrg', 'max'])\n",
    "cos"
   ]
  },
  {
   "cell_type": "code",
   "execution_count": 38,
   "metadata": {},
   "outputs": [],
   "source": [
    "a_rand_h = np.zeros((2,4))\n",
    "v_measure_h = np.zeros((2,4))\n",
    "mutual_h = np.zeros((2,4))\n",
    "fowlkes_h = np.zeros((2,4))"
   ]
  },
  {
   "cell_type": "code",
   "execution_count": 39,
   "metadata": {},
   "outputs": [],
   "source": [
    "linkage = ['ward', 'complete', 'average', 'single']\n",
    "for i,link in enumerate(linkage):\n",
    "    hierachical = AgglomerativeClustering(n_clusters=3, linkage=link).fit(X)\n",
    "    eucl_pred = hierachical.labels_\n",
    "    a_rand_h[0][i] = metrics.rand_score(Y, eucl_pred)\n",
    "    v_measure_h[0][i] = metrics.adjusted_rand_score(Y, eucl_pred)\n",
    "    mutual_h[0][i] = metrics.homogeneity_score(Y, eucl_pred)\n",
    "    fowlkes_h[0][i] = metrics.completeness_score(Y, eucl_pred)"
   ]
  },
  {
   "cell_type": "code",
   "execution_count": 40,
   "metadata": {},
   "outputs": [],
   "source": [
    "linkage = ['complete', 'average', 'single']\n",
    "for i,link in enumerate(linkage):\n",
    "    hierachical = AgglomerativeClustering(n_clusters=3, linkage=link, metric='cosine').fit(X)\n",
    "    eucl_pred = hierachical.labels_\n",
    "    a_rand_h[1][i] = metrics.rand_score(Y, eucl_pred)\n",
    "    v_measure_h[1][i] = metrics.adjusted_rand_score(Y, eucl_pred)\n",
    "    mutual_h[1][i] = metrics.homogeneity_score(Y, eucl_pred)\n",
    "    fowlkes_h[1][i] = metrics.completeness_score(Y, eucl_pred)"
   ]
  },
  {
   "cell_type": "code",
   "execution_count": 41,
   "metadata": {},
   "outputs": [
    {
     "data": {
      "text/html": [
       "<div>\n",
       "<style scoped>\n",
       "    .dataframe tbody tr th:only-of-type {\n",
       "        vertical-align: middle;\n",
       "    }\n",
       "\n",
       "    .dataframe tbody tr th {\n",
       "        vertical-align: top;\n",
       "    }\n",
       "\n",
       "    .dataframe thead th {\n",
       "        text-align: right;\n",
       "    }\n",
       "</style>\n",
       "<table border=\"1\" class=\"dataframe\">\n",
       "  <thead>\n",
       "    <tr style=\"text-align: right;\">\n",
       "      <th></th>\n",
       "      <th>a_rand</th>\n",
       "      <th>v_measure</th>\n",
       "      <th>mutual</th>\n",
       "      <th>fowlkes</th>\n",
       "    </tr>\n",
       "  </thead>\n",
       "  <tbody>\n",
       "    <tr>\n",
       "      <th>ward</th>\n",
       "      <td>0.531149</td>\n",
       "      <td>0.003994</td>\n",
       "      <td>0.011266</td>\n",
       "      <td>0.011168</td>\n",
       "    </tr>\n",
       "    <tr>\n",
       "      <th>complete</th>\n",
       "      <td>0.474910</td>\n",
       "      <td>0.004026</td>\n",
       "      <td>0.003986</td>\n",
       "      <td>0.005737</td>\n",
       "    </tr>\n",
       "    <tr>\n",
       "      <th>average</th>\n",
       "      <td>0.470537</td>\n",
       "      <td>0.005092</td>\n",
       "      <td>0.003657</td>\n",
       "      <td>0.006511</td>\n",
       "    </tr>\n",
       "    <tr>\n",
       "      <th>single</th>\n",
       "      <td>0.336181</td>\n",
       "      <td>0.000160</td>\n",
       "      <td>0.001218</td>\n",
       "      <td>0.131524</td>\n",
       "    </tr>\n",
       "  </tbody>\n",
       "</table>\n",
       "</div>"
      ],
      "text/plain": [
       "            a_rand  v_measure    mutual   fowlkes\n",
       "ward      0.531149   0.003994  0.011266  0.011168\n",
       "complete  0.474910   0.004026  0.003986  0.005737\n",
       "average   0.470537   0.005092  0.003657  0.006511\n",
       "single    0.336181   0.000160  0.001218  0.131524"
      ]
     },
     "execution_count": 41,
     "metadata": {},
     "output_type": "execute_result"
    }
   ],
   "source": [
    "eucl_h = pd.DataFrame({'a_rand': a_rand_h[0],\n",
    "        'v_measure': v_measure_h[0],\n",
    "        'mutual': mutual_h[0],\n",
    "        'fowlkes': fowlkes_h[0]},\n",
    "        index=['ward', 'complete', 'average', 'single'])\n",
    "eucl_h"
   ]
  },
  {
   "cell_type": "code",
   "execution_count": 42,
   "metadata": {},
   "outputs": [
    {
     "data": {
      "text/html": [
       "<div>\n",
       "<style scoped>\n",
       "    .dataframe tbody tr th:only-of-type {\n",
       "        vertical-align: middle;\n",
       "    }\n",
       "\n",
       "    .dataframe tbody tr th {\n",
       "        vertical-align: top;\n",
       "    }\n",
       "\n",
       "    .dataframe thead th {\n",
       "        text-align: right;\n",
       "    }\n",
       "</style>\n",
       "<table border=\"1\" class=\"dataframe\">\n",
       "  <thead>\n",
       "    <tr style=\"text-align: right;\">\n",
       "      <th></th>\n",
       "      <th>a_rand</th>\n",
       "      <th>v_measure</th>\n",
       "      <th>mutual</th>\n",
       "      <th>fowlkes</th>\n",
       "    </tr>\n",
       "  </thead>\n",
       "  <tbody>\n",
       "    <tr>\n",
       "      <th>complete</th>\n",
       "      <td>0.499025</td>\n",
       "      <td>0.008469</td>\n",
       "      <td>0.007098</td>\n",
       "      <td>0.009142</td>\n",
       "    </tr>\n",
       "    <tr>\n",
       "      <th>average</th>\n",
       "      <td>0.440731</td>\n",
       "      <td>0.002833</td>\n",
       "      <td>0.002213</td>\n",
       "      <td>0.004665</td>\n",
       "    </tr>\n",
       "    <tr>\n",
       "      <th>single</th>\n",
       "      <td>0.336163</td>\n",
       "      <td>0.000134</td>\n",
       "      <td>0.001206</td>\n",
       "      <td>0.130305</td>\n",
       "    </tr>\n",
       "    <tr>\n",
       "      <th>ward</th>\n",
       "      <td>0.000000</td>\n",
       "      <td>0.000000</td>\n",
       "      <td>0.000000</td>\n",
       "      <td>0.000000</td>\n",
       "    </tr>\n",
       "  </tbody>\n",
       "</table>\n",
       "</div>"
      ],
      "text/plain": [
       "            a_rand  v_measure    mutual   fowlkes\n",
       "complete  0.499025   0.008469  0.007098  0.009142\n",
       "average   0.440731   0.002833  0.002213  0.004665\n",
       "single    0.336163   0.000134  0.001206  0.130305\n",
       "ward      0.000000   0.000000  0.000000  0.000000"
      ]
     },
     "execution_count": 42,
     "metadata": {},
     "output_type": "execute_result"
    }
   ],
   "source": [
    "cos_h = pd.DataFrame({'a_rand': a_rand_h[1],\n",
    "        'v_measure': v_measure_h[1],\n",
    "        'mutual': mutual_h[1],\n",
    "        'fowlkes': fowlkes_h[1]},\n",
    "        index=['complete', 'average', 'single', 'ward'])\n",
    "cos_h"
   ]
  }
 ],
 "metadata": {
  "kernelspec": {
   "display_name": "Python 3",
   "language": "python",
   "name": "python3"
  },
  "language_info": {
   "codemirror_mode": {
    "name": "ipython",
    "version": 3
   },
   "file_extension": ".py",
   "mimetype": "text/x-python",
   "name": "python",
   "nbconvert_exporter": "python",
   "pygments_lexer": "ipython3",
   "version": "3.9.7"
  }
 },
 "nbformat": 4,
 "nbformat_minor": 2
}
